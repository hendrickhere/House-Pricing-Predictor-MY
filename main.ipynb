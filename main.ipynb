{
 "cells": [
  {
   "cell_type": "markdown",
   "id": "5d4aac0b",
   "metadata": {
    "lines_to_next_cell": 2
   },
   "source": [
    "import streamlit as st\n",
    "import pandas as pd\n",
    "import joblib\n",
    "import time"
   ]
  },
  {
   "cell_type": "markdown",
   "id": "cc9fdf15",
   "metadata": {},
   "source": [
    "# Load the pre-trained model and preprocessor\n",
    "model = joblib.load(\"house_price_predictor_model.sav\")\n",
    "preprocessor = joblib.load(\"preprocessor.sav\")"
   ]
  },
  {
   "cell_type": "markdown",
   "id": "7a2285ec",
   "metadata": {},
   "source": [
    "# Title\n",
    "st.title(\"House Price Prediction Malaysia\")"
   ]
  },
  {
   "cell_type": "markdown",
   "id": "b0c2145e",
   "metadata": {
    "lines_to_next_cell": 2
   },
   "source": [
    "# Sidebar for user input\n",
    "st.sidebar.header(\"Input Features\")"
   ]
  },
  {
   "cell_type": "markdown",
   "id": "ab07fdb8",
   "metadata": {},
   "source": [
    "# Helper function to get user input\n",
    "def user_input_features():\n",
    "    rooms = st.sidebar.number_input(\n",
    "        \"Number of Rooms\", min_value=1, max_value=10, value=3\n",
    "    )\n",
    "    bathrooms = st.sidebar.number_input(\n",
    "        \"Number of Bathrooms\", min_value=1, max_value=10, value=2\n",
    "    )\n",
    "    size = st.sidebar.number_input(\n",
    "        \"Size (sq ft)\", min_value=100, max_value=10000, value=1500, step=100\n",
    "    )\n",
    "    car_parks = st.sidebar.number_input(\n",
    "        \"Number of Car Parks\", min_value=0, max_value=5, value=1\n",
    "    )"
   ]
  },
  {
   "cell_type": "markdown",
   "id": "a9f20333",
   "metadata": {},
   "source": [
    "    location_mapping = {\n",
    "        \"KLCC, Kuala Lumpur\": \"klcc,_kuala_lumpur\",\n",
    "        \"Ampang, Kuala Lumpur\": \"ampang,_kuala_lumpur\",\n",
    "        \"Cheras, Kuala Lumpur\": \"cheras,_kuala_lumpur\",\n",
    "        \"Mont Kiara, Kuala Lumpur\": \"mont_kiara,_kuala_lumpur\",\n",
    "        \"Bangsar, Kuala Lumpur\": \"bangsar,_kuala_lumpur\",\n",
    "    }"
   ]
  },
  {
   "cell_type": "markdown",
   "id": "028c11b5",
   "metadata": {},
   "source": [
    "    property_type_mapping = {\n",
    "        \"Condominium\": \"condominium\",\n",
    "        \"Terrace\": \"terrace\",\n",
    "        \"Bungalow\": \"bungalow\",\n",
    "        \"Semi-detached House\": \"semi-detached_house\",\n",
    "        \"Apartment\": \"apartment\",\n",
    "        \"Flat\": \"flat\",\n",
    "    }"
   ]
  },
  {
   "cell_type": "markdown",
   "id": "732bb634",
   "metadata": {},
   "source": [
    "    furnishing_mapping = {\n",
    "        \"Fully Furnished\": \"fully_furnished\",\n",
    "        \"Partly Furnished\": \"partly_furnished\",\n",
    "        \"Unfurnished\": \"unfurnished\",\n",
    "    }"
   ]
  },
  {
   "cell_type": "markdown",
   "id": "2548c67c",
   "metadata": {},
   "source": [
    "    # Sidebar Inputs\n",
    "    location = st.sidebar.selectbox(\"Location\", options=list(location_mapping.keys()))\n",
    "    property_type = st.sidebar.selectbox(\n",
    "        \"Property Type\", options=list(property_type_mapping.keys())\n",
    "    )\n",
    "    furnishing = st.sidebar.selectbox(\n",
    "        \"Furnishing\", options=list(furnishing_mapping.keys())\n",
    "    )"
   ]
  },
  {
   "cell_type": "markdown",
   "id": "37ae36ba",
   "metadata": {
    "lines_to_next_cell": 2
   },
   "source": [
    "    data = {\n",
    "        \"rooms\": rooms,\n",
    "        \"bathrooms\": bathrooms,\n",
    "        \"size\": size,\n",
    "        \"car_parks\": car_parks,\n",
    "        \"location\": location,\n",
    "        \"property_type\": property_type,\n",
    "        \"furnishing\": furnishing,\n",
    "    }\n",
    "    return pd.DataFrame(data, index=[0])"
   ]
  },
  {
   "cell_type": "markdown",
   "id": "ddb767a4",
   "metadata": {},
   "source": [
    "# # Get user input\n",
    "# input_df = user_input_features()"
   ]
  },
  {
   "cell_type": "markdown",
   "id": "e272e07d",
   "metadata": {},
   "source": [
    "# # Display user input\n",
    "# st.subheader(\"User Input Features\")\n",
    "# st.write(input_df)"
   ]
  },
  {
   "cell_type": "markdown",
   "id": "e12cb583",
   "metadata": {
    "lines_to_next_cell": 2
   },
   "source": [
    "# # Prediction\n",
    "# if st.button(\"Predict House Price\"):\n",
    "#     # Apply the same preprocessing steps as training data\n",
    "#     features_transformed = preprocessor.transform(input_df)\n",
    "#     predicted_price = model.predict(features_transformed)[0]\n",
    "#     st.subheader(\"Predicted House Price\")\n",
    "#     st.write(f\"RM {predicted_price:,.2f}\")"
   ]
  },
  {
   "cell_type": "markdown",
   "id": "5eaed237",
   "metadata": {
    "lines_to_next_cell": 2
   },
   "source": [
    "# Function to simulate a loading effect\n",
    "def loading_message(step):\n",
    "    with st.spinner(f\"{step}...\"):\n",
    "        time.sleep(1)"
   ]
  },
  {
   "cell_type": "markdown",
   "id": "489ee9dd",
   "metadata": {},
   "source": [
    "# Get user input\n",
    "st.subheader(\"Enter House Features\")\n",
    "input_df = user_input_features()"
   ]
  },
  {
   "cell_type": "markdown",
   "id": "e7500c95",
   "metadata": {},
   "source": [
    "st.write(input_df)"
   ]
  },
  {
   "cell_type": "markdown",
   "id": "4c230abf",
   "metadata": {},
   "source": [
    "# Prediction\n",
    "if st.button(\"Predict House Price\"):\n",
    "    loading_message(\"Getting input\")\n",
    "    loading_message(\"Running Model\")"
   ]
  },
  {
   "cell_type": "markdown",
   "id": "2aaa3fa5",
   "metadata": {},
   "source": [
    "    # Apply the same preprocessing steps as training data\n",
    "    features_transformed = preprocessor.transform(input_df)"
   ]
  },
  {
   "cell_type": "markdown",
   "id": "436aa79a",
   "metadata": {},
   "source": [
    "    # Get the prediction\n",
    "    predicted_price = model.predict(features_transformed)[0]"
   ]
  },
  {
   "cell_type": "markdown",
   "id": "644df1c2",
   "metadata": {
    "lines_to_next_cell": 2
   },
   "source": [
    "    # Display the prediction\n",
    "    st.subheader(\"Predicted House Price\")\n",
    "    st.write(f\"RM {predicted_price:,.2f}\")"
   ]
  },
  {
   "cell_type": "markdown",
   "id": "7e69bdf2",
   "metadata": {},
   "source": [
    "# Main function\n",
    "if __name__ == \"__main__\":\n",
    "    st.write(\"*Please use the sidebar to input features and predict house price.\")"
   ]
  },
  {
   "cell_type": "code",
   "execution_count": null,
   "id": "4c41897f",
   "metadata": {},
   "outputs": [],
   "source": [
    "import streamlit as st\n",
    "import pandas as pd\n",
    "import joblib\n",
    "import time"
   ]
  },
  {
   "cell_type": "code",
   "execution_count": null,
   "id": "136cbc52",
   "metadata": {},
   "outputs": [],
   "source": [
    "# Load the pre-trained model and preprocessor\n",
    "model = joblib.load(\"house_price_predictor_model.sav\")\n",
    "preprocessor = joblib.load(\"preprocessor.sav\")"
   ]
  },
  {
   "cell_type": "code",
   "execution_count": null,
   "id": "cbbaeef4",
   "metadata": {},
   "outputs": [],
   "source": [
    "# Title\n",
    "st.title(\"House Price Prediction Malaysia\")"
   ]
  },
  {
   "cell_type": "code",
   "execution_count": null,
   "id": "25ed8047",
   "metadata": {},
   "outputs": [],
   "source": [
    "# Sidebar for user input\n",
    "st.sidebar.header(\"Input Features\")"
   ]
  },
  {
   "cell_type": "code",
   "execution_count": null,
   "id": "1d372d75",
   "metadata": {},
   "outputs": [],
   "source": [
    "# Helper function to get user input\n",
    "def user_input_features():\n",
    "    rooms = st.sidebar.number_input(\n",
    "        \"Number of Rooms\", min_value=1, max_value=10, value=3\n",
    "    )\n",
    "    bathrooms = st.sidebar.number_input(\n",
    "        \"Number of Bathrooms\", min_value=1, max_value=10, value=2\n",
    "    )\n",
    "    size = st.sidebar.number_input(\n",
    "        \"Size (sq ft)\", min_value=100, max_value=10000, value=1500, step=100\n",
    "    )\n",
    "    car_parks = st.sidebar.number_input(\n",
    "        \"Number of Car Parks\", min_value=0, max_value=5, value=1\n",
    "    )\n",
    "\n",
    "    location_mapping = {\n",
    "        \"KLCC, Kuala Lumpur\": \"klcc,_kuala_lumpur\",\n",
    "        \"Ampang, Kuala Lumpur\": \"ampang,_kuala_lumpur\",\n",
    "        \"Cheras, Kuala Lumpur\": \"cheras,_kuala_lumpur\",\n",
    "        \"Mont Kiara, Kuala Lumpur\": \"mont_kiara,_kuala_lumpur\",\n",
    "        \"Bangsar, Kuala Lumpur\": \"bangsar,_kuala_lumpur\",\n",
    "    }\n",
    "\n",
    "    property_type_mapping = {\n",
    "        \"Condominium\": \"condominium\",\n",
    "        \"Terrace\": \"terrace\",\n",
    "        \"Bungalow\": \"bungalow\",\n",
    "        \"Semi-detached House\": \"semi-detached_house\",\n",
    "        \"Apartment\": \"apartment\",\n",
    "        \"Flat\": \"flat\",\n",
    "    }\n",
    "\n",
    "    furnishing_mapping = {\n",
    "        \"Fully Furnished\": \"fully_furnished\",\n",
    "        \"Partly Furnished\": \"partly_furnished\",\n",
    "        \"Unfurnished\": \"unfurnished\",\n",
    "    }\n",
    "\n",
    "    # Sidebar Inputs\n",
    "    location = st.sidebar.selectbox(\"Location\", options=list(location_mapping.keys()))\n",
    "    property_type = st.sidebar.selectbox(\n",
    "        \"Property Type\", options=list(property_type_mapping.keys())\n",
    "    )\n",
    "    furnishing = st.sidebar.selectbox(\n",
    "        \"Furnishing\", options=list(furnishing_mapping.keys())\n",
    "    )\n",
    "\n",
    "    data = {\n",
    "        \"rooms\": rooms,\n",
    "        \"bathrooms\": bathrooms,\n",
    "        \"size\": size,\n",
    "        \"car_parks\": car_parks,\n",
    "        \"location\": location,\n",
    "        \"property_type\": property_type,\n",
    "        \"furnishing\": furnishing,\n",
    "    }\n",
    "    return pd.DataFrame(data, index=[0])"
   ]
  },
  {
   "cell_type": "code",
   "execution_count": null,
   "id": "88f0bb93",
   "metadata": {},
   "outputs": [],
   "source": [
    "# Function to simulate a loading effect\n",
    "def loading_message(step):\n",
    "    with st.spinner(f\"{step}...\"):\n",
    "        time.sleep(1)"
   ]
  },
  {
   "cell_type": "code",
   "execution_count": null,
   "id": "bb3606a9",
   "metadata": {},
   "outputs": [],
   "source": [
    "# Main function\n",
    "if __name__ == \"__main__\":\n",
    "    # Adding custom CSS styling for the prediction text\n",
    "    st.markdown(\n",
    "        \"\"\"\n",
    "        <style>\n",
    "        .predicted-price {\n",
    "            font-size: 24px;\n",
    "            font-weight: bold;\n",
    "            color: white;\n",
    "            background-color: #4CAF50;\n",
    "            text-align: center;\n",
    "            padding: 10px;\n",
    "            border-radius: 10px;\n",
    "            margin-top: 20px;\n",
    "        }\n",
    "        </style>\n",
    "        \"\"\",\n",
    "        unsafe_allow_html=True,\n",
    "    )\n",
    "\n",
    "    st.subheader(\"User Input Features\")\n",
    "    input_df = user_input_features()\n",
    "\n",
    "    st.write(input_df)\n",
    "\n",
    "    # Prediction\n",
    "    if st.button(\"Predict House Price\"):\n",
    "        loading_message(\"Getting input\")\n",
    "        loading_message(\"Running Model\")\n",
    "\n",
    "        # Apply the same preprocessing steps as training data\n",
    "        features_transformed = preprocessor.transform(input_df)\n",
    "\n",
    "        # Get the prediction\n",
    "        predicted_price = model.predict(features_transformed)[0]\n",
    "\n",
    "        # Display the prediction with enhanced styling\n",
    "        st.markdown(\n",
    "            f'<div class=\"predicted-price\">RM {predicted_price:,.2f}</div>',\n",
    "            unsafe_allow_html=True,\n",
    "        )\n",
    "\n",
    "    st.write(\"*Please use the sidebar to input features and predict house price.\")\n",
    "\n",
    "    # Display saved plots\n",
    "    st.subheader(\"Exploratory Data Analysis (EDA) Plots\")\n",
    "\n",
    "    st.image(\"price_distribution_histplot.png\", caption=\"Distribution of House Prices\")\n",
    "    st.image(\"correlation_heatmap.png\", caption=\"Correlation\")\n",
    "    st.image(\"pairplot.png\", caption=\"Pairlot\")"
   ]
  }
 ],
 "metadata": {
  "jupytext": {
   "cell_metadata_filter": "-all",
   "main_language": "python",
   "notebook_metadata_filter": "-all"
  }
 },
 "nbformat": 4,
 "nbformat_minor": 5
}
